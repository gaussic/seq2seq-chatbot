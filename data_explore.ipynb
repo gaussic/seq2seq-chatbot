{
 "cells": [
  {
   "cell_type": "code",
   "execution_count": 1,
   "metadata": {
    "collapsed": true
   },
   "outputs": [],
   "source": [
    "import re\n",
    "import os\n",
    "import random\n",
    "import pandas as pd\n",
    "from collections import Counter"
   ]
  },
  {
   "cell_type": "code",
   "execution_count": 2,
   "metadata": {
    "collapsed": true
   },
   "outputs": [],
   "source": [
    "base_dir = 'data/cornel_movie'\n",
    "lines_dir = os.path.join(base_dir, 'movie_lines.txt')\n",
    "convs_dir = os.path.join(base_dir, 'movie_conversations.txt')"
   ]
  },
  {
   "cell_type": "code",
   "execution_count": 3,
   "metadata": {
    "collapsed": true
   },
   "outputs": [],
   "source": [
    "lines = open(lines_dir, encoding='utf-8', errors='ignore').read().strip().split('\\n')\n",
    "conv_lines = open(convs_dir, encoding='utf-8', errors='ignore').read().strip().split('\\n')"
   ]
  },
  {
   "cell_type": "code",
   "execution_count": 4,
   "metadata": {},
   "outputs": [
    {
     "data": {
      "text/plain": [
       "['L1045 +++$+++ u0 +++$+++ m0 +++$+++ BIANCA +++$+++ They do not!',\n",
       " 'L1044 +++$+++ u2 +++$+++ m0 +++$+++ CAMERON +++$+++ They do to!',\n",
       " 'L985 +++$+++ u0 +++$+++ m0 +++$+++ BIANCA +++$+++ I hope so.',\n",
       " 'L984 +++$+++ u2 +++$+++ m0 +++$+++ CAMERON +++$+++ She okay?',\n",
       " \"L925 +++$+++ u0 +++$+++ m0 +++$+++ BIANCA +++$+++ Let's go.\",\n",
       " 'L924 +++$+++ u2 +++$+++ m0 +++$+++ CAMERON +++$+++ Wow',\n",
       " \"L872 +++$+++ u0 +++$+++ m0 +++$+++ BIANCA +++$+++ Okay -- you're gonna need to learn how to lie.\",\n",
       " 'L871 +++$+++ u2 +++$+++ m0 +++$+++ CAMERON +++$+++ No',\n",
       " 'L870 +++$+++ u0 +++$+++ m0 +++$+++ BIANCA +++$+++ I\\'m kidding.  You know how sometimes you just become this \"persona\"?  And you don\\'t know how to quit?',\n",
       " 'L869 +++$+++ u0 +++$+++ m0 +++$+++ BIANCA +++$+++ Like my fear of wearing pastels?']"
      ]
     },
     "execution_count": 4,
     "metadata": {},
     "output_type": "execute_result"
    }
   ],
   "source": [
    "lines[:10]"
   ]
  },
  {
   "cell_type": "code",
   "execution_count": 5,
   "metadata": {},
   "outputs": [
    {
     "data": {
      "text/plain": [
       "[\"u0 +++$+++ u2 +++$+++ m0 +++$+++ ['L194', 'L195', 'L196', 'L197']\",\n",
       " \"u0 +++$+++ u2 +++$+++ m0 +++$+++ ['L198', 'L199']\",\n",
       " \"u0 +++$+++ u2 +++$+++ m0 +++$+++ ['L200', 'L201', 'L202', 'L203']\",\n",
       " \"u0 +++$+++ u2 +++$+++ m0 +++$+++ ['L204', 'L205', 'L206']\",\n",
       " \"u0 +++$+++ u2 +++$+++ m0 +++$+++ ['L207', 'L208']\",\n",
       " \"u0 +++$+++ u2 +++$+++ m0 +++$+++ ['L271', 'L272', 'L273', 'L274', 'L275']\",\n",
       " \"u0 +++$+++ u2 +++$+++ m0 +++$+++ ['L276', 'L277']\",\n",
       " \"u0 +++$+++ u2 +++$+++ m0 +++$+++ ['L280', 'L281']\",\n",
       " \"u0 +++$+++ u2 +++$+++ m0 +++$+++ ['L363', 'L364']\",\n",
       " \"u0 +++$+++ u2 +++$+++ m0 +++$+++ ['L365', 'L366']\"]"
      ]
     },
     "execution_count": 5,
     "metadata": {},
     "output_type": "execute_result"
    }
   ],
   "source": [
    "conv_lines[:10]"
   ]
  },
  {
   "cell_type": "code",
   "execution_count": 6,
   "metadata": {},
   "outputs": [],
   "source": [
    "def clean_text(text):\n",
    "    '''Clean text by removing unnecessary characters and altering the format of words.'''\n",
    "\n",
    "    text = text.lower()\n",
    "    \n",
    "    text = re.sub(r\"i'm\", \"i am\", text)\n",
    "    text = re.sub(r\"he's\", \"he is\", text)\n",
    "    text = re.sub(r\"she's\", \"she is\", text)\n",
    "    text = re.sub(r\"it's\", \"it is\", text)\n",
    "    text = re.sub(r\"that's\", \"that is\", text)\n",
    "    text = re.sub(r\"what's\", \"that is\", text)\n",
    "    text = re.sub(r\"where's\", \"where is\", text)\n",
    "    text = re.sub(r\"how's\", \"how is\", text)\n",
    "    text = re.sub(r\"\\'ll\", \" will\", text)\n",
    "    text = re.sub(r\"\\'ve\", \" have\", text)\n",
    "    text = re.sub(r\"\\'re\", \" are\", text)\n",
    "    text = re.sub(r\"\\'d\", \" would\", text)\n",
    "    text = re.sub(r\"\\'re\", \" are\", text)\n",
    "    text = re.sub(r\"won't\", \"will not\", text)\n",
    "    text = re.sub(r\"can't\", \"cannot\", text)\n",
    "    text = re.sub(r\"n't\", \" not\", text)\n",
    "    text = re.sub(r\"n'\", \"ng\", text)\n",
    "    text = re.sub(r\"'bout\", \"about\", text)\n",
    "    text = re.sub(r\"'til\", \"until\", text)\n",
    "    text = re.sub(r\"[-()\\\"#/@;:<>{}`+=~|.!?,]\", \"\", text)\n",
    "    \n",
    "    return text"
   ]
  },
  {
   "cell_type": "code",
   "execution_count": 7,
   "metadata": {
    "collapsed": true
   },
   "outputs": [],
   "source": [
    "id2line = {}\n",
    "for line in lines:\n",
    "    _line = line.split(' +++$+++ ')\n",
    "    if len(_line) == 5:\n",
    "        id2line[_line[0]] = clean_text(_line[4]).split()"
   ]
  },
  {
   "cell_type": "code",
   "execution_count": 24,
   "metadata": {},
   "outputs": [
    {
     "data": {
      "text/plain": [
       "304713"
      ]
     },
     "execution_count": 24,
     "metadata": {},
     "output_type": "execute_result"
    }
   ],
   "source": [
    "len(id2line)"
   ]
  },
  {
   "cell_type": "code",
   "execution_count": 8,
   "metadata": {
    "collapsed": true
   },
   "outputs": [],
   "source": [
    "convs = []\n",
    "for line in conv_lines:\n",
    "    convs.append(line.split(' +++$+++ ')[-1][1:-1].replace(\"'\",\"\").replace(\" \",\"\").split(\",\"))"
   ]
  },
  {
   "cell_type": "code",
   "execution_count": 9,
   "metadata": {},
   "outputs": [
    {
     "data": {
      "text/html": [
       "<div>\n",
       "<style>\n",
       "    .dataframe thead tr:only-child th {\n",
       "        text-align: right;\n",
       "    }\n",
       "\n",
       "    .dataframe thead th {\n",
       "        text-align: left;\n",
       "    }\n",
       "\n",
       "    .dataframe tbody tr th {\n",
       "        vertical-align: top;\n",
       "    }\n",
       "</style>\n",
       "<table border=\"1\" class=\"dataframe\">\n",
       "  <thead>\n",
       "    <tr style=\"text-align: right;\">\n",
       "      <th></th>\n",
       "      <th>counts</th>\n",
       "    </tr>\n",
       "  </thead>\n",
       "  <tbody>\n",
       "    <tr>\n",
       "      <th>count</th>\n",
       "      <td>304713.000000</td>\n",
       "    </tr>\n",
       "    <tr>\n",
       "      <th>mean</th>\n",
       "      <td>10.986466</td>\n",
       "    </tr>\n",
       "    <tr>\n",
       "      <th>std</th>\n",
       "      <td>12.405579</td>\n",
       "    </tr>\n",
       "    <tr>\n",
       "      <th>min</th>\n",
       "      <td>0.000000</td>\n",
       "    </tr>\n",
       "    <tr>\n",
       "      <th>25%</th>\n",
       "      <td>4.000000</td>\n",
       "    </tr>\n",
       "    <tr>\n",
       "      <th>50%</th>\n",
       "      <td>7.000000</td>\n",
       "    </tr>\n",
       "    <tr>\n",
       "      <th>75%</th>\n",
       "      <td>14.000000</td>\n",
       "    </tr>\n",
       "    <tr>\n",
       "      <th>max</th>\n",
       "      <td>555.000000</td>\n",
       "    </tr>\n",
       "  </tbody>\n",
       "</table>\n",
       "</div>"
      ],
      "text/plain": [
       "              counts\n",
       "count  304713.000000\n",
       "mean       10.986466\n",
       "std        12.405579\n",
       "min         0.000000\n",
       "25%         4.000000\n",
       "50%         7.000000\n",
       "75%        14.000000\n",
       "max       555.000000"
      ]
     },
     "execution_count": 9,
     "metadata": {},
     "output_type": "execute_result"
    }
   ],
   "source": [
    "lengths = list(map(len, id2line.values()))\n",
    "lengths = pd.DataFrame(lengths, columns=['counts'])\n",
    "lengths.describe()"
   ]
  },
  {
   "cell_type": "code",
   "execution_count": 23,
   "metadata": {},
   "outputs": [],
   "source": [
    "min_length = 2\n",
    "max_length = 20\n",
    "\n",
    "clean_questions = []\n",
    "clean_answers = []\n",
    "total_cnt = 0\n",
    "for conv in convs:\n",
    "    for i in range(len(conv) - 1):\n",
    "        cur_q = id2line[conv[i]]\n",
    "        cur_a = id2line[conv[i+1]]\n",
    "        total_cnt += 1\n",
    "        if min_length <= len(cur_q) <= max_length and min_length <= len(cur_a) <= max_length:\n",
    "            clean_questions.append(cur_q)\n",
    "            clean_answers.append(cur_a)"
   ]
  },
  {
   "cell_type": "code",
   "execution_count": 22,
   "metadata": {},
   "outputs": [
    {
     "name": "stdout",
     "output_type": "stream",
     "text": [
      "['well', 'i', 'thought', 'we', 'would', 'start', 'with', 'pronunciation', 'if', 'that', 'is', 'okay', 'with', 'you']\n",
      "['not', 'the', 'hacking', 'and', 'gagging', 'and', 'spitting', 'part', 'please']\n",
      "\n",
      "['not', 'the', 'hacking', 'and', 'gagging', 'and', 'spitting', 'part', 'please']\n",
      "['okay', 'then', 'how', 'about', 'we', 'try', 'out', 'some', 'french', 'cuisine', 'saturday', 'night']\n",
      "\n",
      "['you', 'are', 'asking', 'me', 'out', 'that', 'is', 'so', 'cute', 'that', 'is', 'your', 'name', 'again']\n",
      "['forget', 'it']\n",
      "\n",
      "['gosh', 'if', 'only', 'we', 'could', 'find', 'kat', 'a', 'boyfriend']\n",
      "['let', 'me', 'see', 'what', 'i', 'can', 'do']\n",
      "\n",
      "[\"c'esc\", 'ma', 'tete', 'this', 'is', 'my', 'head']\n",
      "['right', 'see', 'you', 'are', 'ready', 'for', 'the', 'quiz']\n",
      "\n"
     ]
    }
   ],
   "source": [
    "for i in range(5):\n",
    "    print(clean_questions[i])\n",
    "    print(clean_answers[i])\n",
    "    print()"
   ]
  },
  {
   "cell_type": "code",
   "execution_count": 11,
   "metadata": {},
   "outputs": [
    {
     "name": "stdout",
     "output_type": "stream",
     "text": [
      "138335\n",
      "138335\n"
     ]
    }
   ],
   "source": [
    "print(len(clean_questions))\n",
    "print(len(clean_answers))"
   ]
  },
  {
   "cell_type": "code",
   "execution_count": 12,
   "metadata": {},
   "outputs": [
    {
     "name": "stdout",
     "output_type": "stream",
     "text": [
      "# of questions: 138335\n",
      "# of answers: 138335\n",
      "% of data used: 62.4%\n"
     ]
    }
   ],
   "source": [
    "# Compare the number of lines we will use with the total number of lines.\n",
    "print(\"# of questions:\", len(clean_questions))\n",
    "print(\"# of answers:\", len(clean_answers))\n",
    "print(\"% of data used: {}%\".format(round(len(clean_questions)/total_cnt,3)*100))"
   ]
  },
  {
   "cell_type": "code",
   "execution_count": 13,
   "metadata": {
    "scrolled": true
   },
   "outputs": [
    {
     "data": {
      "text/plain": [
       "45618"
      ]
     },
     "execution_count": 13,
     "metadata": {},
     "output_type": "execute_result"
    }
   ],
   "source": [
    "vocabs = {}\n",
    "data = []\n",
    "for line in clean_questions + clean_answers:\n",
    "    data.extend(line)\n",
    "counter = Counter(data)\n",
    "len(counter)"
   ]
  },
  {
   "cell_type": "code",
   "execution_count": 14,
   "metadata": {},
   "outputs": [
    {
     "name": "stdout",
     "output_type": "stream",
     "text": [
      "[('somewhat', 18), ('butler', 18), ('cannon', 18), ('pulls', 18), ('cliff', 18), ('absence', 18), ('violation', 18), ('vanished', 18), ('rep', 18), ('dentist', 18), ('effects', 18), ('reception', 18), ('leather', 18), ('ronald', 18), ('creative', 18), ('believing', 18), ('risky', 18), ('graduated', 18), ('gracious', 18), ('entertain', 18), ('interrogation', 18), ('sandra', 18), ('picnic', 18), (\"lady's\", 18), ('queens', 18), ('mademoiselle', 18), ('que', 18), ('stink', 18), ('bean', 18), (\"mike's\", 18), ('fucks', 18), ('constant', 18), ('float', 18), ('adopted', 18), ('possessed', 18), ('budget', 18), ('legend', 18), ('farther', 18), ('journal', 18), ('inner', 18), ('excitement', 18), ('crippled', 18), ('memphis', 18), ('sack', 18), ('resist', 18), (\"how'm\", 18), ('fence', 18), ('chimera', 18), ('natalie', 18), ('gravy', 18)]\n"
     ]
    }
   ],
   "source": [
    "count_pairs = counter.most_common()\n",
    "print(count_pairs[5000:5050])"
   ]
  },
  {
   "cell_type": "code",
   "execution_count": 15,
   "metadata": {},
   "outputs": [
    {
     "name": "stdout",
     "output_type": "stream",
     "text": [
      "[('mo', 10), ('plaza', 10), ('scrape', 10), ('sew', 10), ('udo', 10), (\"'way\", 10), ('peed', 10), ('meurice', 10), ('skeptical', 10), ('utheyu', 10), ('braslow', 10), ('carolyn', 10), ('corky', 10), ('surgical', 10), ('scooter', 10), ('layton', 10), ('length', 10), ('swicker', 10), ('medium', 10), ('millie', 10), ('braces', 10), ('spooky', 10), ('relieve', 10), ('80', 10), ('jeanlouis', 10), (\"brynner's\", 10), ('quaint', 10), ('sessions', 10), ('harris', 10), ('twofifty', 10), ('committing', 10), (\"number's\", 10), ('peking', 10), ('jealousy', 10), ('homeless', 10), ('consumer', 10), ('meeks', 10), ('nuwanda', 10), ('doucet', 10), ('lynn', 10), ('lingerie', 10), ('blender', 10), ('depinto', 10), ('stuffed', 10), ('excessive', 10), ('skywalker', 10), ('vegetarian', 10), ('miniature', 10), ('barber', 10), ('satch', 10)]\n"
     ]
    }
   ],
   "source": [
    "print(count_pairs[8000:8050])"
   ]
  },
  {
   "cell_type": "code",
   "execution_count": 16,
   "metadata": {},
   "outputs": [
    {
     "data": {
      "text/plain": [
       "8000"
      ]
     },
     "execution_count": 16,
     "metadata": {},
     "output_type": "execute_result"
    }
   ],
   "source": [
    "vocabs = ['<SOS>', '<EOS>', '<UNK>']\n",
    "count_pairs = counter.most_common(8000-len(vocabs))\n",
    "words, _ = list(zip(*count_pairs))\n",
    "vocabs += words\n",
    "len(vocabs)"
   ]
  },
  {
   "cell_type": "code",
   "execution_count": 17,
   "metadata": {
    "collapsed": true
   },
   "outputs": [],
   "source": [
    "word_to_id = dict(zip(vocabs, range(len(vocabs))))"
   ]
  },
  {
   "cell_type": "code",
   "execution_count": 18,
   "metadata": {},
   "outputs": [],
   "source": [
    "question_to_id = []\n",
    "for question in clean_questions:\n",
    "    question_to_id.append([word_to_id[x] if x in word_to_id else word_to_id['<UNK>'] for x in question])\n",
    "    \n",
    "answer_to_id = []\n",
    "for answer in clean_answers:\n",
    "    answer = ['<SOS>'] + answer + ['<EOS>']\n",
    "    answer_to_id.append([word_to_id[x] if x in word_to_id else word_to_id['<UNK>'] for x in answer])"
   ]
  },
  {
   "cell_type": "code",
   "execution_count": 20,
   "metadata": {},
   "outputs": [
    {
     "name": "stdout",
     "output_type": "stream",
     "text": [
      "[53, 4, 128, 21, 35, 306, 38, 2, 54, 12, 6, 100, 38, 3]\n",
      "[0, 7, 5, 2, 18, 2, 18, 6646, 396, 140, 1]\n",
      "\n",
      "[7, 5, 2, 18, 2, 18, 6646, 396, 140]\n",
      "[0, 100, 88, 43, 37, 21, 230, 49, 82, 1036, 2, 1521, 150, 1]\n",
      "\n",
      "[3, 13, 474, 16, 49, 12, 6, 45, 985, 12, 6, 28, 165, 164]\n",
      "[0, 294, 9, 1]\n",
      "\n",
      "[1741, 54, 127, 21, 77, 148, 3869, 10, 1022]\n",
      "[0, 123, 16, 68, 14, 4, 52, 11, 1]\n",
      "\n",
      "[2, 889, 2, 24, 6, 30, 355]\n",
      "[0, 57, 68, 3, 13, 354, 27, 5, 2, 1]\n",
      "\n"
     ]
    }
   ],
   "source": [
    "for i in range(5):\n",
    "    print(question_to_id[i])\n",
    "    print(answer_to_id[i])\n",
    "    print()"
   ]
  },
  {
   "cell_type": "code",
   "execution_count": 19,
   "metadata": {},
   "outputs": [
    {
     "name": "stdout",
     "output_type": "stream",
     "text": [
      "Total number of words: 2472868\n",
      "Number of times <UNK> is used: 93386\n",
      "Percent of words that are <UNK>: 3.78%\n"
     ]
    }
   ],
   "source": [
    "total_words = 0\n",
    "unk_words = 0\n",
    "for line in question_to_id + answer_to_id:\n",
    "    for word in line:\n",
    "        total_words += 1\n",
    "        if word == word_to_id['<UNK>']:\n",
    "            unk_words += 1\n",
    "            \n",
    "unk_ratio = round(unk_words/total_words,4)*100\n",
    "    \n",
    "print(\"Total number of words:\", total_words)\n",
    "print(\"Number of times <UNK> is used:\", unk_words)\n",
    "print(\"Percent of words that are <UNK>: {}%\".format(round(unk_ratio,3)))"
   ]
  },
  {
   "cell_type": "code",
   "execution_count": null,
   "metadata": {
    "collapsed": true
   },
   "outputs": [],
   "source": []
  }
 ],
 "metadata": {
  "kernelspec": {
   "display_name": "Python 3",
   "language": "python",
   "name": "python3"
  },
  "language_info": {
   "codemirror_mode": {
    "name": "ipython",
    "version": 3
   },
   "file_extension": ".py",
   "mimetype": "text/x-python",
   "name": "python",
   "nbconvert_exporter": "python",
   "pygments_lexer": "ipython3",
   "version": "3.6.3"
  }
 },
 "nbformat": 4,
 "nbformat_minor": 2
}
